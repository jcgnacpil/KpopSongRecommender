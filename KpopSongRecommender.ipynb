{
 "cells": [
  {
   "cell_type": "markdown",
   "id": "6a9f4429-1150-4817-a41e-213895f1c979",
   "metadata": {},
   "source": [
    "# K-pop Song Recommender"
   ]
  },
  {
   "cell_type": "markdown",
   "id": "62813bb6-22bf-42a0-9b00-046bf4ca35f4",
   "metadata": {},
   "source": [
    "**JC Nacpil (last updated: September 17, 2021)**\n",
    "\n",
    "This code pulls your top tracks on Spotify, then recommends songs out of a database of over 11 thousand K-pop songs based on similar audio features such as danceability, tempo, energy, etc. Through this tool, I hope you discover an unfamiliar genre and new songs to enjoy! 😁"
   ]
  },
  {
   "cell_type": "markdown",
   "id": "8b4f8880-8d0d-473f-b8ba-eeabbdd229db",
   "metadata": {},
   "source": [
    "## Set-Up"
   ]
  },
  {
   "cell_type": "markdown",
   "id": "1b95f437-5a34-404b-936d-9e1ac97f8571",
   "metadata": {},
   "source": [
    "### Installation of Dependencies\n",
    "\n",
    "Before starting, make sure that you have installed all dependencies in `reqs/requirements.txt`. The following cell installs these packages in one line.\n",
    "\n",
    "<div class=\"alert alert-block alert-warning\">\n",
    "<b>Note</b>: Currently, using `conda install` does not work for scikit-learn. You may opt to install using `pip install`, or install it yourself using the Anaconda Navigator or Anaconda Prompt. More details <a href=\"https://scikit-learn.org/stable/install.html\">here</a>.\n",
    "</div>"
   ]
  },
  {
   "cell_type": "code",
   "execution_count": null,
   "id": "557c4562-8f10-4596-8b29-24f7762ec523",
   "metadata": {},
   "outputs": [],
   "source": [
    "!pip install -r reqs/requirements.txt\n",
    "# !conda install --file reqs/requirements.txt"
   ]
  },
  {
   "cell_type": "markdown",
   "id": "3f795256-8d86-40f1-a1ce-ddfe6f386009",
   "metadata": {},
   "source": [
    "### Importing Libraries\n",
    "\n",
    "Run this cell to import all required libraries"
   ]
  },
  {
   "cell_type": "code",
   "execution_count": null,
   "id": "94f70fca-b084-4dc6-a8ab-6f11b396b0dd",
   "metadata": {},
   "outputs": [],
   "source": [
    "# Library for accessing Spotify API\n",
    "import spotipy\n",
    "import spotipy.util as util\n",
    "from spotipy.oauth2 import SpotifyClientCredentials\n",
    "from spotipy.oauth2 import SpotifyOAuth\n",
    "\n",
    "# Scientific and vector computation for python\n",
    "import numpy as np\n",
    "\n",
    "# Data manipulation and analysis\n",
    "import pandas as pd\n",
    "\n",
    "# Library for this notebook providing utilitiy functions\n",
    "from utils import repeatAPICall\n",
    "\n",
    "# Progress bar\n",
    "from tqdm import tqdm\n",
    "\n",
    "# Cosine similarity calculation\n",
    "from sklearn.metrics.pairwise import cosine_similarity\n",
    "\n",
    "# Deep copy of python data structures\n",
    "from copy import deepcopy\n"
   ]
  },
  {
   "cell_type": "markdown",
   "id": "2e80106f-5b4d-4601-ac5a-7db9ed48e08a",
   "metadata": {},
   "source": [
    "### Spotify API Set-up\n",
    "\n",
    "**Scope**: This notebook will request for `user-top-read` and `playlist-modify-private(public)` scopes. Once authorized, this gives us access to the user's top tracks and ability to add and modify private (or public) playlists.\n",
    "\n",
    "<div class=\"alert alert-block alert-warning\">\n",
    "<b>Note:</b> To run this notebook, you need to create a Spotify Developer account and set API credentials for your application (a client id, a client secret, and a redirect uri). Get started by going to <a href = \"https://developer.spotify.com/dashboard/\">My Dashboard</a>. For more information, you can refer to this <a href='https://developer.spotify.com/documentation/web-api/quick-start/'>link.</a> <br><br>\n",
    "    \n",
    "Redirect URIs are set after registering the application by going to `Edit Settings`. They can be any link and does not have to be reachable. I recommend using `https://open.spotify.com/` so that the authorization page redirects to the Spotify Web Player after completion.\n",
    "    \n",
    "Lastly, to give access to a user, add their email address to the `Users and Access` section of the Dashboard. \n",
    "</div>"
   ]
  },
  {
   "cell_type": "code",
   "execution_count": null,
   "id": "aec447f4-3208-42fd-966a-1725482359d9",
   "metadata": {},
   "outputs": [],
   "source": [
    "# Spotify API Credentials\n",
    "CLIENT_ID = \"\"\n",
    "CLIENT_SECRET = \"\"\n",
    "REDIRECT_URI = 'https://open.spotify.com/'\n",
    "\n",
    "scope = 'user-top-read playlist-modify-private playlist-modify-public'\n",
    "sp = spotipy.Spotify(auth_manager=SpotifyOAuth(client_id = CLIENT_ID, client_secret = CLIENT_SECRET, redirect_uri = REDIRECT_URI,  scope=scope))\n",
    "\n",
    "# Confirm that we have access to Spotify\n",
    "user_result = sp.me()\n",
    "user_id = user_result['id']\n",
    "user_name = user_result['display_name']\n",
    "print(\"Hello {}! (user_id: {})\".format(user_name,user_id))"
   ]
  },
  {
   "cell_type": "markdown",
   "id": "98a7084d-47df-4ae7-8146-6573d983f97d",
   "metadata": {},
   "source": [
    "## Step 1: Settings"
   ]
  },
  {
   "cell_type": "markdown",
   "id": "6dda0127-9bd6-4ac5-bf66-355aba82fc0d",
   "metadata": {},
   "source": [
    "You can modify the following settings before running the recommender system.\n",
    "\n",
    "`num_recomms`: (default 20) Number of recommendations to generate <br>\n",
    "`similarity_choice`: (default 'median') Set whether to choose similar tracks based on median or average similarity <br>\n",
    "`num_toptracks` (default 50): Number of user top tracks to base recommendations on <br>\n",
    "\n",
    "`time_range` (default 'medium_term'): time range of top tracks to be considered\n",
    "* short_term: last 4 weeks\n",
    "* medium_term: last 6 months\n",
    "* long_term: all time\n",
    "\n",
    "`create_playlist` (default True): Allow to create a new playlist in your Spotify profile with the following settings\n",
    "* `public` (default False): Whether it is a public (True) or private (False) playlist \n",
    "* `collaborative` (default False): Whether it is a collaborative playlist that allows other people to add new songs\n",
    "* `playlist_description`: Optional playlist description\n"
   ]
  },
  {
   "cell_type": "code",
   "execution_count": null,
   "id": "bceea51d-11c4-425b-ab9a-e5716bec1618",
   "metadata": {},
   "outputs": [],
   "source": [
    "#### Recommender Options ####\n",
    "num_recomms = 20 # Maximum of 1000\n",
    "similarity_choice = 'median' # Can also set to 'average'\n",
    "\n",
    "#### Top tracks options ####\n",
    "num_toptracks = 50 # Minimum 1, Maximum 50\n",
    "time_range = 'medium_term' # Can also be 'short_term' or 'long_term'\n",
    "\n",
    "#### Playlist options ######\n",
    "create_playlist = True # If True, the notebook will create a playlist \n",
    "playlist_name = 'Kpop Song Recommendations'\n",
    "public = False\n",
    "collaborative = False\n",
    "playlist_description =  \"Autogenerated Kpop Playlist\""
   ]
  },
  {
   "cell_type": "markdown",
   "id": "0d4c101b-18cf-497a-9226-d965dad83a66",
   "metadata": {},
   "source": [
    "**At this point**: we are now ready to run the recommender system! You can run the cells one-by-one, or run all remaining cells by clicking `Run > Run All Cells` in the toolbar above."
   ]
  },
  {
   "cell_type": "markdown",
   "id": "0ebbf3c9-d2ec-41a9-b714-6cc4d736d503",
   "metadata": {},
   "source": [
    "## Step 2: Load Song Data "
   ]
  },
  {
   "cell_type": "code",
   "execution_count": null,
   "id": "8cd02eaa-c1ec-4403-8f66-350084c4527f",
   "metadata": {},
   "outputs": [],
   "source": [
    "# Load the track data \n",
    "database_dir = 'Data/tracks_top10_features.csv'\n",
    "database_df = pd.read_csv(database_dir)\n",
    "\n",
    "# Load user top track data\n",
    "print(\"Loading user's top {} tracks data for {}\".format(num_toptracks,time_range))\n",
    "results, success = repeatAPICall(sp.current_user_top_tracks,{\n",
    "        'limit': num_toptracks, \n",
    "        'time_range': time_range\n",
    "    })\n",
    "\n",
    "# Create dataframe for top tracks\n",
    "df_cols = ['artist','track','track_uri']\n",
    "artists = []\n",
    "tracks = []\n",
    "track_uris = []\n",
    "for idx, track in enumerate(results['items']):\n",
    "    artists.append(track['artists'][0]['name'])\n",
    "    tracks.append(track['name'])\n",
    "    track_uris.append(track['uri'])\n",
    "\n",
    "user_toptracks_df = pd.DataFrame(zip(artists,tracks,track_uris),columns=df_cols)\n",
    "print('Done! These are your top tracks')\n",
    "display(user_toptracks_df)"
   ]
  },
  {
   "cell_type": "markdown",
   "id": "538be945-c337-4965-adce-720c4bac80f3",
   "metadata": {},
   "source": [
    "### Preprocessing: Getting track features"
   ]
  },
  {
   "cell_type": "code",
   "execution_count": null,
   "id": "2019b532-7cf0-491b-90b6-915b312d9153",
   "metadata": {},
   "outputs": [],
   "source": [
    "tracks = user_toptracks_df.track.values\n",
    "track_uris = user_toptracks_df.track_uri.values\n",
    "\n",
    "batch_size = 10\n",
    "\n",
    "# This list of columns is taken directly from the keys of a feature dictionary\n",
    "features_cols = ['danceability', \n",
    "                 'energy', \n",
    "                 'key', \n",
    "                 'loudness', \n",
    "                 'mode', \n",
    "                 'speechiness', \n",
    "                 'acousticness', \n",
    "                 'instrumentalness', \n",
    "                 'liveness', \n",
    "                 'valence', \n",
    "                 'tempo', \n",
    "                 'type', \n",
    "                 'id', \n",
    "                 'uri', \n",
    "                 'track_href', \n",
    "                 'analysis_url', \n",
    "                 'duration_ms', \n",
    "                 'time_signature']\n",
    "\n",
    "features_df = pd.DataFrame(columns = features_cols)\n",
    "\n",
    "for i in tqdm(range(0, len(track_uris), batch_size)):\n",
    "    \n",
    "    # Select the current batch\n",
    "    track_uris_batch = track_uris[i:i+batch_size]\n",
    "    \n",
    "    features_result, success = repeatAPICall(sp.audio_features,{'tracks':track_uris_batch})\n",
    "    if not success: \n",
    "        print(\"Skipping to next batch.\")\n",
    "        continue\n",
    "    \n",
    "    # Deepcopy the list of dictionaries to be modified\n",
    "    # This is necessary for this particular structure\n",
    "    features_dicts = deepcopy(features_result)\n",
    "    \n",
    "    \n",
    "    # Drop None in features_dict\n",
    "    # This will mean that some of our songs will not have features\n",
    "    if any(d is None for d in features_dicts):\n",
    "        \n",
    "        print(\"Batch: {} to {} | Some songs do not have features; dropping from list.\".format(i+1, i+1+batch_size)) \n",
    "        print(\"Count: {}\".format(len(features_dicts)))\n",
    "        features_dicts = [d for d in features_dicts if d is not None]\n",
    "        print(\"New count: {}\".format(len(features_dicts)))\n",
    "\n",
    "    temp_df = pd.DataFrame.from_records(features_dicts) \n",
    "    features_df = pd.concat([features_df.reset_index(drop=True), temp_df.reset_index(drop=True)])\n",
    "    \n",
    "    temp_df_count = len(temp_df.index)\n",
    "    if temp_df_count != batch_size:\n",
    "        print(\"Batch: {} to {} | Dataframe rows count: {}\".format(i+1, i+1+batch_size, temp_df_count)) \n",
    "\n",
    "\n",
    "# Reset index and rename 'uri' to 'track_uri'\n",
    "# Drop duplicates based on track_uri\n",
    "features_df = features_df.rename(columns={'uri':'track_uri'}).drop_duplicates(subset=['track_uri'])\n",
    "\n",
    "# Merge features to track_df by track_uri\n",
    "# Note: some rows will not have features. We keep them for now to retain the track info\n",
    "user_toptracks_df = user_toptracks_df.merge(features_df, on='track_uri', how='left').reset_index(drop = True)"
   ]
  },
  {
   "cell_type": "markdown",
   "id": "eec4085c-53ff-4c76-85d0-a546bd843a84",
   "metadata": {},
   "source": [
    "### Preprocessing: Feature Scaling and Mean Normalization"
   ]
  },
  {
   "cell_type": "code",
   "execution_count": null,
   "id": "3c81c24a-8ce9-44df-828d-8e4c02014ee7",
   "metadata": {},
   "outputs": [],
   "source": [
    "# Only features in this list will be modified\n",
    "target_features = [\n",
    "    'danceability', \n",
    "    'energy', \n",
    "    'loudness', \n",
    "    'speechiness', \n",
    "    'acousticness', \n",
    "    'liveness', \n",
    "    'valence', \n",
    "    'tempo'\n",
    "]\n",
    "\n",
    "# Database with normalized features\n",
    "database_normalized_df = database_df.copy()\n",
    "database_normalized_df[target_features] = (database_df[target_features] - database_df[target_features].mean()) / database_df[target_features].std()\n",
    "\n",
    "# Top tracks with normalized features\n",
    "user_toptracks_normalized_df = user_toptracks_df.copy()\n",
    "user_toptracks_normalized_df[target_features] = (user_toptracks_normalized_df[target_features] - database_df[target_features].mean()) / database_df[target_features].std()"
   ]
  },
  {
   "cell_type": "markdown",
   "id": "88f953ae-29bd-419a-8e6b-397fb7ae12b7",
   "metadata": {},
   "source": [
    "## Step 3: Generate Recommendations"
   ]
  },
  {
   "cell_type": "code",
   "execution_count": null,
   "id": "9daef077-0318-4210-b05d-dac079409efc",
   "metadata": {},
   "outputs": [],
   "source": [
    "# List of top tracks uris \n",
    "user_tracks = user_toptracks_normalized_df.track_uri.values\n",
    "\n",
    "# Filter out songs in database if they already occur in the user's top tracks\n",
    "database_excluser_df = database_normalized_df[~database_normalized_df['track_uri'].isin(user_tracks)].dropna().reset_index(drop=True)\n",
    "database_excluser_df.drop_duplicates('track_uri',inplace=True)\n",
    "\n",
    "# Get the similarity values between the items of the two dataframes\n",
    "# Similarity values has a shape of (number of database songs x number of top tracks)\n",
    "database_features = database_excluser_df[target_features].values\n",
    "toptracks_features = user_toptracks_normalized_df[target_features].values\n",
    "similarity_values = cosine_similarity(database_features,toptracks_features)\n",
    "\n",
    "# We take the mean across toptracks\n",
    "ave_similarity_values = similarity_values.mean(axis = 1)\n",
    "\n",
    "# Do a similar calculation for median\n",
    "median_similarity_values = np.median(similarity_values, axis = 1)\n",
    "\n",
    "# Store similarity values per track\n",
    "database_similarity_df = database_excluser_df[df_cols].copy()\n",
    "database_similarity_df['ave_similarity'] = ave_similarity_values\n",
    "database_similarity_df['median_similarity'] = median_similarity_values\n",
    "\n",
    "# Take first n songs with highest average (median) similarity values\n",
    "if similarity_choice == 'average':\n",
    "    recomms_df = database_similarity_df.sort_values(by = 'ave_similarity', ascending = False).head(num_recomms).reset_index(drop=True)\n",
    "else:\n",
    "    recomms_df = database_similarity_df.sort_values(by = 'median_similarity', ascending = False).head(num_recomms).reset_index(drop=True)\n",
    "\n",
    "print(\"Here are your recommendations!\")\n",
    "display(recomms_df)"
   ]
  },
  {
   "cell_type": "markdown",
   "id": "0447ddfe-3247-44f8-9d10-b03c8f3fa3b9",
   "metadata": {},
   "source": [
    "## Step 4: Save as new playlist"
   ]
  },
  {
   "cell_type": "code",
   "execution_count": null,
   "id": "783c9d33-e032-4811-9f4a-d14b2f7a8bcb",
   "metadata": {},
   "outputs": [],
   "source": [
    "if not create_playlist:\n",
    "    print(\"You have set the notebook to not save a playlist. To save a playlist to your personal profile, set create_playlist = True\")\n",
    "else: \n",
    "    print(\"\"\"Creating playlist \\nName: {}\\nPublic: {}\\nCollaborative: {}\"\"\".format(playlist_name,public,collaborative))\n",
    "    print(\"Description: \", playlist_description)\n",
    "    \n",
    "    # Get list of track uris from recomms_df\n",
    "    tracks_to_add = recomms_df.track_uri.values.tolist()\n",
    "    \n",
    "    playlist_result = sp.user_playlist_create(user_id, playlist_name, public, collaborative, description = playlist_description)\n",
    "    playlist_link = playlist_result['external_urls']['spotify']\n",
    "    playlist_id = playlist_result['id']\n",
    "    sp.playlist_change_details(playlist_id, description = playlist_description)\n",
    "    sp.user_playlist_add_tracks(user_id, playlist_id, tracks_to_add)\n",
    "    print(\"Here's the link to your new playlist: {}\".format(playlist_link))"
   ]
  },
  {
   "cell_type": "markdown",
   "id": "70b3e84f-322d-418f-bb56-8264fbca2507",
   "metadata": {},
   "source": [
    "## Done! Happy Listening! 🎵"
   ]
  }
 ],
 "metadata": {
  "kernelspec": {
   "display_name": "Python 3 (ipykernel)",
   "language": "python",
   "name": "python3"
  },
  "language_info": {
   "codemirror_mode": {
    "name": "ipython",
    "version": 3
   },
   "file_extension": ".py",
   "mimetype": "text/x-python",
   "name": "python",
   "nbconvert_exporter": "python",
   "pygments_lexer": "ipython3",
   "version": "3.9.6"
  }
 },
 "nbformat": 4,
 "nbformat_minor": 5
}
